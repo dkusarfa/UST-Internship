{
  "nbformat": 4,
  "nbformat_minor": 0,
  "metadata": {
    "colab": {
      "provenance": [],
      "mount_file_id": "1D5WnS6UYfZlEKyMtuyHolhQdbTcyb2fz",
      "authorship_tag": "ABX9TyMzupUikfzMRy7L5qeZgWPu",
      "include_colab_link": true
    },
    "kernelspec": {
      "name": "python3",
      "display_name": "Python 3"
    },
    "language_info": {
      "name": "python"
    }
  },
  "cells": [
    {
      "cell_type": "markdown",
      "metadata": {
        "id": "view-in-github",
        "colab_type": "text"
      },
      "source": [
        "<a href=\"https://colab.research.google.com/github/dkusarfa/UST-Internship/blob/main/Hydrogen_Compatibility_of_Materials.ipynb\" target=\"_parent\"><img src=\"https://colab.research.google.com/assets/colab-badge.svg\" alt=\"Open In Colab\"/></a>"
      ]
    },
    {
      "cell_type": "markdown",
      "source": [
        "#RECOMENDATION SYSTEM\n",
        "##### A recomendation system implimented based on the available datasets. A material is recommended for use to the user based on its required parameters and limiting values. the fatigue graph is also provided if the material suggested is metal based."
      ],
      "metadata": {
        "id": "h8qJtZNsNsI7"
      }
    },
    {
      "cell_type": "code",
      "source": [
        "import pandas as pd\n",
        "import os\n",
        "import matplotlib.pyplot as plt\n",
        "from sklearn.svm import SVR"
      ],
      "metadata": {
        "id": "DIadbGgRy6T4"
      },
      "execution_count": null,
      "outputs": []
    },
    {
      "cell_type": "code",
      "source": [
        "def import_csvs_from_directory(directory):\n",
        "    csv_files = [file for file in os.listdir(directory) if file.endswith('.csv')]\n",
        "    dataframes = []\n",
        "    for file in csv_files:\n",
        "        path = os.path.join(directory, file)\n",
        "        df = None\n",
        "        encodings = ['utf-8', 'latin1']\n",
        "        for encoding in encodings:\n",
        "            try:\n",
        "                df = pd.read_csv(path, encoding=encoding)\n",
        "                break\n",
        "            except UnicodeDecodeError:\n",
        "                continue\n",
        "        if df is not None:\n",
        "            dataframes.append(df)\n",
        "    return dataframes"
      ],
      "metadata": {
        "id": "Va9Swbrb6LOq"
      },
      "execution_count": null,
      "outputs": []
    },
    {
      "cell_type": "code",
      "source": [
        "def draw_graph(csv_directory, csv_path):\n",
        "    if csv_path.endswith('.csv'):\n",
        "        path = os.path.join(csv_directory, csv_path)\n",
        "        df = pd.read_csv(path)\n",
        "        x = df['∆K_2']\n",
        "        y = df['da/dN_1']\n",
        "        plt.plot(x, y)\n",
        "        plt.xlabel('Stress intensity factor')\n",
        "        plt.ylabel('Fatigue crack growth')\n",
        "        plt.title('fatigue Graph of the material')\n",
        "        plt.show()\n",
        "    else:\n",
        "        print(\"No graph available.\")"
      ],
      "metadata": {
        "id": "bzz1fkPMQvhA"
      },
      "execution_count": null,
      "outputs": []
    },
    {
      "cell_type": "code",
      "source": [
        "def search_parameter(dataframes, parameter, limiting_value, csv_directory):\n",
        "    results = []\n",
        "    for df in dataframes:\n",
        "        if parameter in df.columns:\n",
        "            column_data = df[parameter]\n",
        "            filtered_data = column_data[column_data <= limiting_value]\n",
        "            if not filtered_data.empty:\n",
        "                max_row_value = filtered_data.max()\n",
        "                max_row = df[column_data == max_row_value].iloc[0]\n",
        "                max_row['NumLimitingValues'] = sum(column_data <= limiting_value)\n",
        "                if 'fatigue_csv' in df.columns:\n",
        "                    max_row['CSV_Path'] = df['fatigue_csv'].iloc[0]\n",
        "                    for result in max_row:\n",
        "                        csv_path = result['fatigue_csv']\n",
        "                        draw_graph(csv_directory, csv_path)\n",
        "                else:\n",
        "                    max_row = df[column_data == max_row_value].iloc[0]\n",
        "                    max_row['CSV_Path'] = 'N/A'\n",
        "                max_row['NumLimitingValues'] = sum(column_data <= limiting_value)\n",
        "                if 'fatigue_csv' in max_row.index:\n",
        "                    max_row = max_row.drop('fatigue_csv')\n",
        "                results.append(max_row)\n",
        "    return results"
      ],
      "metadata": {
        "id": "iz4oK4Q1Wexc"
      },
      "execution_count": null,
      "outputs": []
    },
    {
      "cell_type": "code",
      "source": [
        "def main(csv_directory):\n",
        "    dataframes = import_csvs_from_directory(csv_directory)\n",
        "    parameters = []\n",
        "    limiting_values = []\n",
        "\n",
        "    print(\"Enter parameters and corresponding limiting values (Enter 0 to stop):\")\n",
        "    while True:\n",
        "        parameter = input(\"Parameter: \")\n",
        "        if parameter == '0':\n",
        "            break\n",
        "        limiting_value = float(input(\"Limiting value: \"))\n",
        "        parameters.append(parameter)\n",
        "        limiting_values.append(limiting_value)\n",
        "    results = []\n",
        "    for parameter, limiting_value in zip(parameters, limiting_values):\n",
        "        parameter_results = search_parameter(dataframes, parameter, limiting_value,csv_directory)\n",
        "        results.extend(parameter_results)\n",
        "\n",
        "    print(\"the material which satisfies all the limiting conditions the most is\\n\")\n",
        "    print(results)\n",
        "\n",
        "if __name__ == '__main__':\n",
        "    csv_directory = '/content/drive/MyDrive/materials'\n",
        "    main(csv_directory)"
      ],
      "metadata": {
        "colab": {
          "base_uri": "https://localhost:8080/"
        },
        "id": "vJieLddb6anr",
        "outputId": "91ba35fd-7200-4fbb-ee30-f1f7ca04893f"
      },
      "execution_count": null,
      "outputs": [
        {
          "output_type": "stream",
          "name": "stdout",
          "text": [
            "Enter parameters and corresponding limiting values (Enter 0 to stop):\n",
            "Parameter: excess_h_weight_experiment_percent\n",
            "Limiting value: 1\n",
            "Parameter: excess_h_weight_temperature\n",
            "Limiting value: 300\n",
            "Parameter: excess_h_weight_pressure\n",
            "Limiting value: 12\n",
            "Parameter: 0\n",
            "the material which satisfies all the limiting conditions the most is\n",
            "\n",
            "[material_name                         Activated carbon, Ni/AX-21\n",
            "chemical_formula                                          C + Ni\n",
            "excess_h_weight_experiment_percent                           1.0\n",
            "excess_h_weight_temperature                                  298\n",
            "excess_h_weight_pressure                                    10.0\n",
            "CSV_Path                                                     N/A\n",
            "NumLimitingValues                                             15\n",
            "Name: 7, dtype: object, material_name                         Activated carbon, Ni/AX-21\n",
            "chemical_formula                                          C + Ni\n",
            "excess_h_weight_experiment_percent                           1.0\n",
            "excess_h_weight_temperature                                  298\n",
            "excess_h_weight_pressure                                    10.0\n",
            "CSV_Path                                                     N/A\n",
            "NumLimitingValues                                             71\n",
            "Name: 7, dtype: object, material_name                         Activated Carbon, cm-tec+Li/BC6\n",
            "chemical_formula                                             C+Li/BC6\n",
            "excess_h_weight_experiment_percent                               0.52\n",
            "excess_h_weight_temperature                                       293\n",
            "excess_h_weight_pressure                                         10.0\n",
            "CSV_Path                                                          N/A\n",
            "NumLimitingValues                                                  71\n",
            "Name: 4, dtype: object]\n"
          ]
        }
      ]
    },
    {
      "cell_type": "markdown",
      "source": [
        "####Example for material being suggested being a steel based material"
      ],
      "metadata": {
        "id": "AOp8VVeZP8Xf"
      }
    },
    {
      "cell_type": "code",
      "source": [
        "import pandas as pd\n",
        "import os\n",
        "import matplotlib.pyplot as plt\n",
        "from sklearn.svm import SVR"
      ],
      "metadata": {
        "id": "Exk4N6-TP2pL"
      },
      "execution_count": null,
      "outputs": []
    },
    {
      "cell_type": "code",
      "source": [
        "def import_csvs_from_directory(directory):\n",
        "    csv_files = [file for file in os.listdir(directory) if file.endswith('.csv')]\n",
        "    dataframes = []\n",
        "    for file in csv_files:\n",
        "        path = os.path.join(directory, file)\n",
        "        df = None\n",
        "        encodings = ['utf-8', 'latin1']\n",
        "        for encoding in encodings:\n",
        "            try:\n",
        "                df = pd.read_csv(path, encoding=encoding)\n",
        "                break\n",
        "            except UnicodeDecodeError:\n",
        "                continue\n",
        "        if df is not None:\n",
        "            dataframes.append(df)\n",
        "    return dataframes"
      ],
      "metadata": {
        "id": "hJFGe4X1QJXB"
      },
      "execution_count": null,
      "outputs": []
    },
    {
      "cell_type": "code",
      "source": [
        "def draw_graph(csv_directory, csv_path):\n",
        "    if csv_path.endswith('.csv'):\n",
        "        path = os.path.join(csv_directory, csv_path)\n",
        "        df = pd.read_csv(path)\n",
        "        x = df['∆K_2']\n",
        "        y = df['da/dN_1']\n",
        "        plt.plot(x, y)\n",
        "        plt.xlabel('Stress intensity factor')\n",
        "        plt.ylabel('Fatigue crack growth')\n",
        "        plt.title('fatigue Graph of the material')\n",
        "        plt.show()\n",
        "    else:\n",
        "        print(\"No graph available.\")"
      ],
      "metadata": {
        "id": "L52uyob7QMiw"
      },
      "execution_count": null,
      "outputs": []
    },
    {
      "cell_type": "code",
      "source": [
        "def search_parameter(dataframes, parameter, limiting_value, csv_directory):\n",
        "    results = []\n",
        "    for df in dataframes:\n",
        "        if parameter in df.columns:\n",
        "            column_data = df[parameter]\n",
        "            filtered_data = column_data[column_data <= limiting_value]\n",
        "            if not filtered_data.empty:\n",
        "                max_row_value = filtered_data.max()\n",
        "                max_row = df[column_data == max_row_value].iloc[0].copy()\n",
        "                if 'fatigue_csv' in df.columns:\n",
        "                    max_row['CSV_Path'] = df['fatigue_csv'].iloc[0]\n",
        "                    csv_path = max_row['CSV_Path']\n",
        "                    draw_graph(csv_directory, csv_path)\n",
        "                else:\n",
        "                    max_row['CSV_Path'] = 'N/A'\n",
        "                max_row['NumLimitingValues'] = sum(column_data <= limiting_value)\n",
        "                if 'fatigue_csv' in max_row.index:\n",
        "                    max_row = max_row.drop('fatigue_csv')\n",
        "                results.append(max_row)\n",
        "    return results"
      ],
      "metadata": {
        "id": "8amUlimrQS9k"
      },
      "execution_count": null,
      "outputs": []
    },
    {
      "cell_type": "code",
      "source": [
        "def main(csv_directory):\n",
        "    dataframes = import_csvs_from_directory(csv_directory)\n",
        "    parameters = []\n",
        "    limiting_values = []\n",
        "\n",
        "    print(\"Enter parameters and corresponding limiting values (Enter 0 to stop):\")\n",
        "    while True:\n",
        "        parameter = input(\"Parameter: \")\n",
        "        if parameter == '0':\n",
        "            break\n",
        "        limiting_value = float(input(\"Limiting value: \"))\n",
        "        parameters.append(parameter)\n",
        "        limiting_values.append(limiting_value)\n",
        "    results = []\n",
        "    for parameter, limiting_value in zip(parameters, limiting_values):\n",
        "        parameter_results = search_parameter(dataframes, parameter, limiting_value,csv_directory)\n",
        "        results.extend(parameter_results)\n",
        "\n",
        "    print(\"the material which satisfies all the limiting conditions the most is\\n\")\n",
        "    print(results)\n",
        "\n",
        "if __name__ == '__main__':\n",
        "    csv_directory = '/content/drive/MyDrive/materials'\n",
        "    main(csv_directory)"
      ],
      "metadata": {
        "colab": {
          "base_uri": "https://localhost:8080/",
          "height": 1000
        },
        "id": "xkH9NbOzQUQJ",
        "outputId": "30dee39f-2781-4ad0-8a47-4d4950c50854"
      },
      "execution_count": null,
      "outputs": [
        {
          "name": "stdout",
          "output_type": "stream",
          "text": [
            "Enter parameters and corresponding limiting values (Enter 0 to stop):\n",
            "Parameter: pressure\n",
            "Limiting value: 49\n",
            "Parameter: energy_density\n",
            "Limiting value: 17\n",
            "Parameter: fracture_toughness\n",
            "Limiting value: 64\n",
            "Parameter: 0\n"
          ]
        },
        {
          "output_type": "display_data",
          "data": {
            "text/plain": [
              "<Figure size 640x480 with 1 Axes>"
            ],
            "image/png": "[encoded data removed]"
          },
          "metadata": {}
        },
        {
          "output_type": "display_data",
          "data": {
            "text/plain": [
              "<Figure size 640x480 with 1 Axes>"
            ],
            "image/png": "[encoded data removed]"
          },
          "metadata": {}
        },
        {
          "output_type": "display_data",
          "data": {
            "text/plain": [
              "<Figure size 640x480 with 1 Axes>"
            ],
            "image/png": "[encoded data removed]"
          },
          "metadata": {}
        },
        {
          "output_type": "stream",
          "name": "stdout",
          "text": [
            "the material which satisfies all the limiting conditions the most is\n",
            "\n",
            "[Sample_Name                                  4130X(tempered martensite)\n",
            "pressure                                                           45.0\n",
            "energy_density                                                     15.5\n",
            "fracture_toughness                                                   59\n",
            "h1                                                                    6\n",
            "CSV_Path              /content/drive/MyDrive/materials/graphs/X42_fa...\n",
            "NumLimitingValues                                                     5\n",
            "Name: 5, dtype: object, Sample_Name                                  4130X(tempered martensite)\n",
            "pressure                                                           45.0\n",
            "energy_density                                                     15.5\n",
            "fracture_toughness                                                   59\n",
            "h1                                                                    6\n",
            "CSV_Path              /content/drive/MyDrive/materials/graphs/X42_fa...\n",
            "NumLimitingValues                                                     1\n",
            "Name: 5, dtype: object, Sample_Name           X80 fine acicular ferrite + ~30% polygonal fer...\n",
            "pressure                                                          103.0\n",
            "energy_density                                                     18.0\n",
            "fracture_toughness                                                   64\n",
            "h1                                                                    5\n",
            "CSV_Path              /content/drive/MyDrive/materials/graphs/X42_fa...\n",
            "NumLimitingValues                                                     3\n",
            "Name: 4, dtype: object]\n"
          ]
        }
      ]
    },
    {
      "cell_type": "markdown",
      "source": [
        "# #2 To predict a series of materials with possible combinations of properties\n",
        "###### With the database available, a series of materials or combinations of materials could be predicted having necessary properties to store hydrogen.\n",
        "\n",
        "#### USING SUPPORT VECTOR MACHINES(SVM)"
      ],
      "metadata": {
        "id": "ozymSo7cUbWL"
      }
    },
    {
      "cell_type": "markdown",
      "source": [
        "## USING SUPPORT VECTOR MACHINES(SVM)"
      ],
      "metadata": {
        "id": "vDlHQCZL93T_"
      }
    },
    {
      "cell_type": "code",
      "source": [
        "import pandas as pd\n",
        "import os\n",
        "from itertools import combinations\n",
        "from sklearn.svm import SVR"
      ],
      "metadata": {
        "id": "BJqDIoRv7BEl"
      },
      "execution_count": null,
      "outputs": []
    },
    {
      "cell_type": "code",
      "source": [
        "def import_csvs_from_directory(directory):\n",
        "    csv_files = [file for file in os.listdir(directory) if file.endswith('.csv')]\n",
        "    dataframes = []\n",
        "    for file in csv_files:\n",
        "        path = os.path.join(directory, file)\n",
        "        try:\n",
        "            df = pd.read_csv(path, encoding='utf-8')\n",
        "        except UnicodeDecodeError:\n",
        "            try:\n",
        "                df = pd.read_csv(path, encoding='latin-1')\n",
        "            except UnicodeDecodeError:\n",
        "                print(f\"Error reading CSV file: {file}. Skipping...\")\n",
        "                continue\n",
        "        dataframes.append(df)\n",
        "    return dataframes"
      ],
      "metadata": {
        "id": "jznoU8lvOEGe"
      },
      "execution_count": null,
      "outputs": []
    },
    {
      "cell_type": "code",
      "source": [
        "def generate_combinations(df):\n",
        "    combinations_list = []\n",
        "    for r in range(2, len(df)+1):\n",
        "        combinations_list.extend(list(combinations(df.index, r)))\n",
        "    return combinations_list"
      ],
      "metadata": {
        "id": "6Z2qU2Y-OVHx"
      },
      "execution_count": null,
      "outputs": []
    },
    {
      "cell_type": "code",
      "source": [
        "def predict_combinations(df):\n",
        "    combinations_list = generate_combinations(df)\n",
        "    predictions = []\n",
        "    for combination in combinations_list:\n",
        "        subset = df.iloc[list(combination)]\n",
        "        X = subset.drop(columns=['Target'])\n",
        "        y = subset['Target']\n",
        "        model = SVR()\n",
        "        model.fit(X, y)\n",
        "        prediction = model.predict(X)\n",
        "        predictions.append(prediction)\n",
        "    return predictions"
      ],
      "metadata": {
        "id": "GJlNHGXqOT-x"
      },
      "execution_count": null,
      "outputs": []
    },
    {
      "cell_type": "code",
      "source": [
        "csv_directory = '/content/drive/MyDrive/materials/graphs'\n",
        "dataframes = import_csvs_from_directory(csv_directory)"
      ],
      "metadata": {
        "id": "ppN-QCSKOe9A"
      },
      "execution_count": null,
      "outputs": []
    },
    {
      "cell_type": "code",
      "source": [
        "required_csv = input(\"Enter the name of the required CSV file (without the extension): \")\n",
        "required_df = None\n",
        "for df in dataframes:\n",
        "    if required_csv in df.columns:\n",
        "        required_df = df\n",
        "        break"
      ],
      "metadata": {
        "colab": {
          "base_uri": "https://localhost:8080/"
        },
        "id": "VKLCgi5qOyGx",
        "outputId": "29955fbd-ff48-426f-e74a-7af4f4892291"
      },
      "execution_count": null,
      "outputs": [
        {
          "name": "stdout",
          "output_type": "stream",
          "text": [
            "Enter the name of the required CSV file (without the extension): 4130X_fatigue\n"
          ]
        }
      ]
    },
    {
      "cell_type": "code",
      "source": [
        "if required_df is not None:\n",
        "    predictions = predict_combinations(required_df)\n",
        "\n",
        "\n",
        "    for prediction in predictions:\n",
        "        print(prediction)\n",
        "else:\n",
        "    print(\"Required CSV file not found.\")"
      ],
      "metadata": {
        "colab": {
          "base_uri": "https://localhost:8080/"
        },
        "id": "GtzIxKVQOkpI",
        "outputId": "a17a1d07-2b58-41d8-b563-8ae8132fd777"
      },
      "execution_count": null,
      "outputs": [
        {
          "output_type": "stream",
          "name": "stdout",
          "text": [
            "Required CSV file not found.\n"
          ]
        }
      ]
    },
    {
      "cell_type": "markdown",
      "source": [
        "## K-Nearest Neighbors (KNN) algorithm"
      ],
      "metadata": {
        "id": "g9UyGM4Z3mAU"
      }
    },
    {
      "cell_type": "code",
      "source": [
        "import pandas as pd\n",
        "import os\n",
        "from sklearn.neighbors import KNeighborsClassifier\n",
        "from sklearn.preprocessing import LabelEncoder"
      ],
      "metadata": {
        "id": "LMpjzj4D3ng8"
      },
      "execution_count": null,
      "outputs": []
    },
    {
      "cell_type": "code",
      "source": [
        "def import_csvs_from_directory(directory, encodings=['utf-8', 'ISO-8859-1', 'latin-1']):\n",
        "    csv_files = [file for file in os.listdir(directory) if file.endswith('.csv')]\n",
        "    dataframes = {}\n",
        "\n",
        "    for file in csv_files:\n",
        "        path = os.path.join(directory, file)\n",
        "\n",
        "        for encoding in encodings:\n",
        "            try:\n",
        "                df = pd.read_csv(path, encoding=encoding)\n",
        "                dataframes[file] = df\n",
        "                break\n",
        "            except UnicodeDecodeError:\n",
        "                continue\n",
        "\n",
        "    return dataframes"
      ],
      "metadata": {
        "id": "qT9m4QM93rt8"
      },
      "execution_count": null,
      "outputs": []
    },
    {
      "cell_type": "code",
      "source": [
        "def get_user_input(dataframes):\n",
        "    print(\"Available CSV files:\")\n",
        "    for class_name in dataframes.keys():\n",
        "        print(class_name)\n",
        "\n",
        "    required_csv = input(\"Enter the name of the required CSV file (without the extension): \").lower()\n",
        "    return required_csv"
      ],
      "metadata": {
        "id": "uPOJmPntzrRS"
      },
      "execution_count": null,
      "outputs": []
    },
    {
      "cell_type": "code",
      "source": [
        "def encode_categorical_columns(dataframes):\n",
        "    for df in dataframes.values():\n",
        "        categorical_cols = df.select_dtypes(include=['object']).columns\n",
        "        if len(categorical_cols) > 0:\n",
        "            encoder = LabelEncoder()\n",
        "            for col in categorical_cols:\n",
        "                df[col] = encoder.fit_transform(df[col])\n",
        "    return dataframes"
      ],
      "metadata": {
        "id": "OZZSXvYU3xjk"
      },
      "execution_count": null,
      "outputs": []
    },
    {
      "cell_type": "code",
      "source": [
        "def predict_new_materials(dataframes, required_csv):\n",
        "    required_df = dataframes.get(required_csv)\n",
        "    if required_df is not None:\n",
        "        X = required_df.drop(columns=[required_csv])\n",
        "        y = required_df[required_csv]\n",
        "\n",
        "        knn_model = KNeighborsClassifier(n_neighbors=3)\n",
        "        knn_model.fit(X, y)\n",
        "\n",
        "        new_data = X.iloc[[0]]\n",
        "        predicted_materials = knn_model.predict(new_data)\n",
        "        print(\"Predicted materials based on the first row of the required CSV:\")\n",
        "        print(predicted_materials)\n",
        "    else:\n",
        "        print(\"Required CSV file not found.\")"
      ],
      "metadata": {
        "id": "KVUnOboi36vN"
      },
      "execution_count": null,
      "outputs": []
    },
    {
      "cell_type": "code",
      "source": [
        "if __name__ == \"__main__\":\n",
        "    csv_directory = '/content/drive/MyDrive/materials'\n",
        "    dataframes = import_csvs_from_directory(csv_directory)\n",
        "    dataframes = encode_categorical_columns(dataframes)\n",
        "\n",
        "    required_csv = get_user_input(dataframes)\n",
        "    predict_new_materials(dataframes, required_csv)"
      ],
      "metadata": {
        "colab": {
          "base_uri": "https://localhost:8080/"
        },
        "id": "COAopfxQ3739",
        "outputId": "91aef78e-610d-4681-8253-81c137f86514"
      },
      "execution_count": null,
      "outputs": [
        {
          "output_type": "stream",
          "name": "stdout",
          "text": [
            "Available CSV files:\n",
            "Polymer.csv\n",
            "chemicals.csv\n",
            "Class.csv\n",
            "hydrides.csv\n",
            "Adsorbants.csv\n",
            "Copper.csv\n",
            "Specialty Steels.csv\n",
            "materials_datasets.csv\n",
            "Enter the name of the required CSV file (without the extension): Adsorbants\n",
            "Required CSV file not found.\n"
          ]
        }
      ]
    },
    {
      "cell_type": "markdown",
      "source": [
        "## Decision Trees and Random Forests approach"
      ],
      "metadata": {
        "id": "FOiMGKgV7uLc"
      }
    },
    {
      "cell_type": "code",
      "source": [
        "import pandas as pd\n",
        "import os\n",
        "from sklearn.model_selection import train_test_split\n",
        "from sklearn.tree import DecisionTreeClassifier\n",
        "from sklearn.ensemble import RandomForestClassifier\n",
        "from sklearn.preprocessing import LabelEncoder"
      ],
      "metadata": {
        "id": "mxenGs-a4DRQ"
      },
      "execution_count": null,
      "outputs": []
    },
    {
      "cell_type": "code",
      "source": [
        "def import_csvs_from_directory(directory, encodings=['utf-8', 'ISO-8859-1']):\n",
        "    csv_files = [file for file in os.listdir(directory) if file.endswith('.csv')]\n",
        "    dataframes = {}\n",
        "    for file in csv_files:\n",
        "        class_name = file.split('.')[0]  # Extract class name from the CSV filename\n",
        "        path = os.path.join(directory, file)\n",
        "        df = None\n",
        "        for encoding in encodings:\n",
        "            try:\n",
        "                df = pd.read_csv(path, encoding=encoding)\n",
        "                break  # If successful, break the loop and proceed to the next CSV file\n",
        "            except UnicodeDecodeError:\n",
        "                continue  # Try the next encoding if the current one raises an error\n",
        "\n",
        "        if df is not None:\n",
        "            dataframes[class_name] = df\n",
        "        else:\n",
        "            print(f\"Error reading file: {path}. None of the encodings worked.\")\n",
        "    return dataframes"
      ],
      "metadata": {
        "id": "cfgrr1uQ73T_"
      },
      "execution_count": null,
      "outputs": []
    },
    {
      "cell_type": "code",
      "source": [
        "def preprocess_data(df):\n",
        "    # Save the original columns for printing later\n",
        "    original_columns = df.columns.tolist()\n",
        "\n",
        "    # Assuming the last column is the target 'fracture_toughness'\n",
        "    target_column = df.columns[-1]\n",
        "\n",
        "    # Drop only the target column from the DataFrame\n",
        "    df_copy = df.drop(columns=[target_column])\n",
        "\n",
        "    # Convert categorical columns to numerical using LabelEncoder\n",
        "    categorical_columns = df_copy.select_dtypes(include='object').columns\n",
        "    label_encoder = LabelEncoder()\n",
        "    for column in categorical_columns:\n",
        "        df_copy[column] = label_encoder.fit_transform(df_copy[column])\n",
        "\n",
        "    return df_copy, original_columns"
      ],
      "metadata": {
        "id": "B7QS9YKI-utJ"
      },
      "execution_count": null,
      "outputs": []
    },
    {
      "cell_type": "code",
      "source": [
        "def get_user_input(dataframes):\n",
        "    print(\"Available CSV files:\")\n",
        "    for class_name in dataframes.keys():\n",
        "        print(class_name)\n",
        "\n",
        "    required_csv = input(\"Enter the name of the required CSV file (without the extension): \")\n",
        "    return required_csv"
      ],
      "metadata": {
        "id": "XUByKKwH8FIu"
      },
      "execution_count": null,
      "outputs": []
    },
    {
      "cell_type": "code",
      "source": [
        "def prepare_dataset(dataframes, required_csv):\n",
        "    df = dataframes[required_csv]\n",
        "    X = df.drop(columns=['fracture_toughness'])\n",
        "    y = df['fracture_toughness']\n",
        "\n",
        "    return X, y"
      ],
      "metadata": {
        "id": "FdyvoLLc8LOb"
      },
      "execution_count": null,
      "outputs": []
    },
    {
      "cell_type": "code",
      "source": [
        "def train_decision_tree(X_train, y_train):\n",
        "    model = DecisionTreeClassifier()\n",
        "    model.fit(X_train, y_train)\n",
        "    return model"
      ],
      "metadata": {
        "id": "6NIoo8Fu8MHv"
      },
      "execution_count": null,
      "outputs": []
    },
    {
      "cell_type": "code",
      "source": [
        "def train_random_forest(X_train, y_train):\n",
        "    model = RandomForestClassifier()\n",
        "    model.fit(X_train, y_train)\n",
        "    return model"
      ],
      "metadata": {
        "id": "kAZkj6BD8QT5"
      },
      "execution_count": null,
      "outputs": []
    },
    {
      "cell_type": "code",
      "source": [
        "def main():\n",
        "    # Mount Google Drive and load CSV files\n",
        "    csv_directory = '/content/drive/MyDrive/materials'\n",
        "    dataframes = import_csvs_from_directory(csv_directory)\n",
        "\n",
        "    # Ask the user to input the required CSV file\n",
        "    required_csv = get_user_input(dataframes)\n",
        "\n",
        "    original_columns_dict = {}\n",
        "    for class_name, df in dataframes.items():\n",
        "        dataframes[class_name], original_columns = preprocess_data(df)\n",
        "        original_columns_dict[class_name] = original_columns\n",
        "\n",
        "    # Prepare the dataset\n",
        "    X, y = prepare_dataset(dataframes, required_csv)\n",
        "\n",
        "    # Split the data into training and testing sets\n",
        "    X_train_tree, X_test_tree, y_train_tree, y_test_tree = train_test_split(X, y, test_size=0.6, random_state=42)\n",
        "    X_train_forest, X_test_forest, y_train_forest, y_test_forest = train_test_split(X, y, test_size=0.6, random_state=42)\n",
        "\n",
        "    decision_tree_model = train_decision_tree(X_train_tree, y_train_tree)\n",
        "    random_forest_model = train_random_forest(X_train_forest, y_train_forest)\n",
        "\n",
        "    decision_tree_predictions = decision_tree_model.predict(X_test_tree)\n",
        "    random_forest_predictions = random_forest_model.predict(X_test_forest)\n",
        "\n",
        "    # Print the predictions\n",
        "    print(\"Decision Tree Predictions:\")\n",
        "    print(decision_tree_predictions)\n",
        "\n",
        "    print(\"Random Forest Predictions:\")\n",
        "    print(random_forest_predictions)\n"
      ],
      "metadata": {
        "id": "oKEwKXQf8XqG"
      },
      "execution_count": null,
      "outputs": []
    },
    {
      "cell_type": "code",
      "source": [
        "if __name__ == \"__main__\":\n",
        "    main()"
      ],
      "metadata": {
        "colab": {
          "base_uri": "https://localhost:8080/"
        },
        "id": "rrcTALLR8Zb-",
        "outputId": "3eae886c-1060-463b-cbe1-dcb4dec4006b"
      },
      "execution_count": null,
      "outputs": [
        {
          "output_type": "stream",
          "name": "stdout",
          "text": [
            "Available CSV files:\n",
            "Polymer\n",
            "chemicals\n",
            "Class\n",
            "hydrides\n",
            "Adsorbants\n",
            "Copper\n",
            "Specialty Steels\n",
            "materials_datasets\n",
            "Enter the name of the required CSV file (without the extension): materials_datasets\n",
            "Decision Tree Predictions:\n",
            "[45 45 45 77 77]\n",
            "Random Forest Predictions:\n",
            "[45 45 77 77 77]\n"
          ]
        }
      ]
    }
  ]
}